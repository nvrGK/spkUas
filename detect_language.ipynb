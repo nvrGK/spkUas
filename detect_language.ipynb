{
 "cells": [
  {
   "cell_type": "code",
   "execution_count": 4,
   "id": "d1956aba-7d46-4416-891f-03bb81e02683",
   "metadata": {},
   "outputs": [
    {
     "ename": "ImportError",
     "evalue": "cannot import name 'detect' from partially initialized module 'Language_detection' (most likely due to a circular import) (D:\\file mata kuliah\\smstr 7\\modul2\\uas\\spk\\Language_detection.py)",
     "output_type": "error",
     "traceback": [
      "\u001b[1;31m---------------------------------------------------------------------------\u001b[0m",
      "\u001b[1;31mImportError\u001b[0m                               Traceback (most recent call last)",
      "\u001b[1;32m<ipython-input-4-6776d613a2f8>\u001b[0m in \u001b[0;36m<module>\u001b[1;34m\u001b[0m\n\u001b[1;32m----> 1\u001b[1;33m \u001b[1;32mfrom\u001b[0m \u001b[0mLanguage_detection\u001b[0m \u001b[1;32mimport\u001b[0m \u001b[0mdetect\u001b[0m\u001b[1;33m\u001b[0m\u001b[1;33m\u001b[0m\u001b[0m\n\u001b[0m\u001b[0;32m      2\u001b[0m \u001b[1;33m\u001b[0m\u001b[0m\n\u001b[0;32m      3\u001b[0m all_language_codes = {\n\u001b[0;32m      4\u001b[0m     \u001b[1;34m\"id\"\u001b[0m\u001b[1;33m:\u001b[0m \u001b[1;34m\"Indonesia\"\u001b[0m\u001b[1;33m,\u001b[0m\u001b[1;33m\u001b[0m\u001b[1;33m\u001b[0m\u001b[0m\n\u001b[0;32m      5\u001b[0m     \u001b[1;34m\"eng\"\u001b[0m\u001b[1;33m:\u001b[0m \u001b[1;34m\"England\"\u001b[0m\u001b[1;33m,\u001b[0m\u001b[1;33m\u001b[0m\u001b[1;33m\u001b[0m\u001b[0m\n",
      "\u001b[1;32mD:\\file mata kuliah\\smstr 7\\modul2\\uas\\spk\\Language_detection.py\u001b[0m in \u001b[0;36m<module>\u001b[1;34m\u001b[0m\n\u001b[1;32m----> 1\u001b[1;33m \u001b[1;32mfrom\u001b[0m \u001b[0mLanguage_detection\u001b[0m \u001b[1;32mimport\u001b[0m \u001b[0mdetect\u001b[0m\u001b[1;33m\u001b[0m\u001b[1;33m\u001b[0m\u001b[0m\n\u001b[0m\u001b[0;32m      2\u001b[0m \u001b[1;33m\u001b[0m\u001b[0m\n\u001b[0;32m      3\u001b[0m all_language_codes = {\n\u001b[0;32m      4\u001b[0m     \u001b[1;34m\"id\"\u001b[0m\u001b[1;33m:\u001b[0m \u001b[1;34m\"Indonesia\"\u001b[0m\u001b[1;33m,\u001b[0m\u001b[1;33m\u001b[0m\u001b[1;33m\u001b[0m\u001b[0m\n\u001b[0;32m      5\u001b[0m     \u001b[1;34m\"eng\"\u001b[0m\u001b[1;33m:\u001b[0m \u001b[1;34m\"England\"\u001b[0m\u001b[1;33m,\u001b[0m\u001b[1;33m\u001b[0m\u001b[1;33m\u001b[0m\u001b[0m\n",
      "\u001b[1;31mImportError\u001b[0m: cannot import name 'detect' from partially initialized module 'Language_detection' (most likely due to a circular import) (D:\\file mata kuliah\\smstr 7\\modul2\\uas\\spk\\Language_detection.py)"
     ]
    }
   ],
   "source": [
    "from Language_detection import detect\n",
    "\n",
    "all_language_codes = {\n",
    "    \"id\": \"Indonesia\",\n",
    "    \"eng\": \"England\",\n",
    "    \"spa\": \"Spannyol\",\n",
    "    \"kn\": \"Kanada\",\n",
    "    \"jpn\": \"Japanese\",\n",
    "    \"RRC\": \"Republik Rakyat China\"\n",
    "}\n",
    "\n",
    "input_Sintence = {\n",
    "    \"Saya sedang memakan nasi pecel\",\n",
    "    \"I'm eating pecel rice \",\n",
    "    \"Estoy comiendo arroz pecel\",\n",
    "    \"ನಾನು ಪೆಸೆಲ್ ರೈಸ್ ತಿನ್ನುತ್ತಿದ್ದೇನೆ\",\n",
    "    \"ピーセルライスを食べています\",\n",
    "    \"我在吃pecel飯\"\n",
    "\n",
    "}\n",
    "lemmatizer_names = [\"language_codes\", \"input_Sintence\"]\n",
    "format_text = '{:24}' * (len(lemmatizer_names)+1)\n",
    "print('\\n', format_text.format(\"Language Name\", *lemmatizer_names), '\\n', '='*6)\n",
    "for data in input_Sintence:\n",
    "    language_code = detect(data)\n",
    "    sentence = [all_language_codes.get(language_code), language_code, data]\n",
    "    print(format_text.format(*sentence))\n"
   ]
  },
  {
   "cell_type": "code",
   "execution_count": null,
   "id": "b8a57d0b-1370-4c9a-8921-fb11023c18ed",
   "metadata": {},
   "outputs": [],
   "source": []
  },
  {
   "cell_type": "code",
   "execution_count": null,
   "id": "3fcc8b3b-2ec1-47c2-a246-c395d5ab0104",
   "metadata": {},
   "outputs": [],
   "source": []
  },
  {
   "cell_type": "code",
   "execution_count": null,
   "id": "2eab4eda-8112-49e4-84d3-99d88007aecc",
   "metadata": {},
   "outputs": [],
   "source": []
  },
  {
   "cell_type": "code",
   "execution_count": null,
   "id": "6a3b57ff-cae2-4f54-b27f-e88b9081b7c2",
   "metadata": {},
   "outputs": [],
   "source": []
  },
  {
   "cell_type": "code",
   "execution_count": null,
   "id": "97be0623-66ca-45c5-b726-051895a2dd9f",
   "metadata": {},
   "outputs": [],
   "source": []
  },
  {
   "cell_type": "code",
   "execution_count": null,
   "id": "674c0c23-176f-46de-b2b4-2df2e116f92e",
   "metadata": {},
   "outputs": [],
   "source": []
  },
  {
   "cell_type": "code",
   "execution_count": null,
   "id": "ba844a4e-98d2-473d-9822-68fe44ff6d4c",
   "metadata": {},
   "outputs": [],
   "source": []
  },
  {
   "cell_type": "code",
   "execution_count": null,
   "id": "20bf62ea-52a5-413d-9fc4-977dda9ea189",
   "metadata": {},
   "outputs": [],
   "source": []
  },
  {
   "cell_type": "code",
   "execution_count": null,
   "id": "10cd5fb0-0acd-4eae-8329-2ea3a8b86246",
   "metadata": {},
   "outputs": [],
   "source": []
  },
  {
   "cell_type": "code",
   "execution_count": null,
   "id": "d25b2f0c-581f-4b1a-8075-9f7d1dc91f44",
   "metadata": {},
   "outputs": [],
   "source": []
  },
  {
   "cell_type": "code",
   "execution_count": null,
   "id": "21b9c4bc-3520-45d4-b7db-225a500c3ae3",
   "metadata": {},
   "outputs": [],
   "source": []
  },
  {
   "cell_type": "code",
   "execution_count": null,
   "id": "24582c58-af82-45de-ae16-f43a9f01aa9f",
   "metadata": {},
   "outputs": [],
   "source": []
  },
  {
   "cell_type": "code",
   "execution_count": null,
   "id": "3e084b92-91ad-49ab-a397-40f839c8dca3",
   "metadata": {},
   "outputs": [],
   "source": []
  },
  {
   "cell_type": "code",
   "execution_count": null,
   "id": "1c66e7ab-5e92-443b-8b79-b26dfa4edbb0",
   "metadata": {},
   "outputs": [],
   "source": []
  },
  {
   "cell_type": "code",
   "execution_count": null,
   "id": "c347a652-6808-4b43-b14e-388d6565496b",
   "metadata": {},
   "outputs": [],
   "source": []
  },
  {
   "cell_type": "code",
   "execution_count": null,
   "id": "7e3beeae-607e-4c26-b186-75da52abe108",
   "metadata": {},
   "outputs": [],
   "source": []
  },
  {
   "cell_type": "code",
   "execution_count": null,
   "id": "095da23b-c6fe-422c-aef6-7b4fba48de23",
   "metadata": {},
   "outputs": [],
   "source": []
  },
  {
   "cell_type": "code",
   "execution_count": null,
   "id": "94018f0d-cf50-457b-b42c-2b49825083f3",
   "metadata": {},
   "outputs": [],
   "source": []
  },
  {
   "cell_type": "code",
   "execution_count": null,
   "id": "15573ca4-a274-463f-8051-cf0c1907bcea",
   "metadata": {},
   "outputs": [],
   "source": []
  },
  {
   "cell_type": "code",
   "execution_count": null,
   "id": "ee58c4fd-0ecb-429e-8bb9-54d6d81d09f5",
   "metadata": {},
   "outputs": [],
   "source": []
  },
  {
   "cell_type": "code",
   "execution_count": null,
   "id": "90fc9388-39e6-4560-b1c3-1dcd0d92e4ad",
   "metadata": {},
   "outputs": [],
   "source": []
  }
 ],
 "metadata": {
  "kernelspec": {
   "display_name": "Python 3",
   "language": "python",
   "name": "python3"
  },
  "language_info": {
   "codemirror_mode": {
    "name": "ipython",
    "version": 3
   },
   "file_extension": ".py",
   "mimetype": "text/x-python",
   "name": "python",
   "nbconvert_exporter": "python",
   "pygments_lexer": "ipython3",
   "version": "3.8.8"
  }
 },
 "nbformat": 4,
 "nbformat_minor": 5
}
